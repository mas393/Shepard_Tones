{
 "cells": [
  {
   "cell_type": "markdown",
   "id": "e17b6f4f",
   "metadata": {},
   "source": [
    "# Creating Shepard Scales\n",
    "##### Presented by Matthew Stephenson\n",
    "Code avaliable on my github at https://github.com/mas393/Shepard_Tones"
   ]
  },
  {
   "cell_type": "markdown",
   "id": "c5c4a4af",
   "metadata": {},
   "source": [
    "### Graph Demo\n",
    "https://www.desmos.com/calculator/esigjtrrun"
   ]
  },
  {
   "cell_type": "code",
   "execution_count": 1,
   "id": "b2f97200",
   "metadata": {},
   "outputs": [],
   "source": [
    "import simpleaudio as sa\n",
    "import numpy as np\n",
    "\n",
    "SR = 44100\n",
    "\n",
    "def play_sound(buff, samplerate):\n",
    "    buff *= 32767/max(abs(buff))\n",
    "    buff = buff.astype(np.int16)\n",
    "    channels = 1\n",
    "    samplewidth = 2\n",
    "    player = sa.play_buffer(buff, channels, samplewidth, samplerate)\n",
    "    player.wait_done()\n",
    "\n",
    "def shepard_tone(freq, progress, time, tones, shape_fxn):\n",
    "    res = 0\n",
    "    n = 2*np.pi*freq*time\n",
    "    for t in range(tones):\n",
    "        res += np.sin(n*(t+1)) * shape_fxn((progress+t)/tones)\n",
    "    return res"
   ]
  },
  {
   "cell_type": "markdown",
   "id": "0c198996",
   "metadata": {},
   "source": [
    "### Discrete Shepard Scale"
   ]
  },
  {
   "cell_type": "code",
   "execution_count": 2,
   "id": "42c775ad",
   "metadata": {},
   "outputs": [],
   "source": [
    "def discrete_shepard_scale(sample_rate, fund_freq, tones,\\\n",
    "                           steps, duration, shape_fxn):\n",
    "    bufflen = sample_rate*duration\n",
    "    soundbuff = np.zeros(bufflen)\n",
    "    for s in range(steps):\n",
    "        prog = s/steps\n",
    "        freq = fund_freq*2**(prog)\n",
    "        for i in range(int(bufflen/steps * 0.8)):\n",
    "            t = i/sample_rate\n",
    "            soundbuff[s*int(bufflen/steps) + i] = \\\n",
    "                shepard_tone(freq, prog, t, tones, shape_fxn)\n",
    "    return soundbuff"
   ]
  },
  {
   "cell_type": "code",
   "execution_count": 10,
   "id": "d471c6b5",
   "metadata": {},
   "outputs": [],
   "source": [
    "FREQ = 440\n",
    "SHAPE = lambda x: np.sin(np.pi*x)**5\n",
    "sound1 = discrete_shepard_scale(SR, FREQ, 5, 12, 6, SHAPE)"
   ]
  },
  {
   "cell_type": "code",
   "execution_count": 30,
   "id": "da37fe3f",
   "metadata": {},
   "outputs": [],
   "source": [
    "play_sound(sound1, SR)"
   ]
  },
  {
   "cell_type": "markdown",
   "id": "2f5fa79b",
   "metadata": {},
   "source": [
    "### Shepard - Risset Glissando"
   ]
  },
  {
   "cell_type": "code",
   "execution_count": 5,
   "id": "da3d75e2",
   "metadata": {},
   "outputs": [],
   "source": [
    "def shepard_scale(sample_rate, fund_freq, tones, duration, shape_fxn):\n",
    "    bufflen = sample_rate*duration\n",
    "    soundbuff = np.zeros(bufflen)\n",
    "    for i in range(bufflen):\n",
    "        prog = i/bufflen\n",
    "        t = i/sample_rate\n",
    "        soundbuff[i] = shepard_tone(fund_freq*2**prog, prog, t,\\\n",
    "                                    tones, shape_fxn)\n",
    "    return soundbuff"
   ]
  },
  {
   "cell_type": "code",
   "execution_count": 6,
   "id": "7fa171a1",
   "metadata": {},
   "outputs": [],
   "source": [
    "FREQ = 440\n",
    "SHAPE = lambda x: np.sin(np.pi*x)**5\n",
    "sound2 = shepard_scale(SR, FREQ, 5, 8, SHAPE)\n",
    "FREQ = 220\n",
    "sound3 = shepard_scale(SR, FREQ, 5, 8, SHAPE)"
   ]
  },
  {
   "cell_type": "code",
   "execution_count": 7,
   "id": "06ee0a7d",
   "metadata": {},
   "outputs": [],
   "source": [
    "play_sound(sound2, SR)"
   ]
  },
  {
   "cell_type": "code",
   "execution_count": 8,
   "id": "1192570e",
   "metadata": {},
   "outputs": [],
   "source": [
    "play_sound(sound3, SR)"
   ]
  },
  {
   "cell_type": "markdown",
   "id": "86ab835d",
   "metadata": {},
   "source": [
    "### Reverse Shepard - Risset Glissando"
   ]
  },
  {
   "cell_type": "code",
   "execution_count": 12,
   "id": "dcebd9bf",
   "metadata": {},
   "outputs": [],
   "source": [
    "def rev_shepard_scale(sample_rate, fund_freq, tones, duration, shape_fxn):\n",
    "    bufflen = sample_rate*duration\n",
    "    soundbuff = np.zeros(bufflen)\n",
    "    for i in range(bufflen):\n",
    "        prog = 1-i/bufflen\n",
    "        t = i/sample_rate\n",
    "        soundbuff[i] = shepard_tone(fund_freq*2**prog, prog, t,\\\n",
    "                                   tones, shape_fxn)\n",
    "    return soundbuff"
   ]
  },
  {
   "cell_type": "code",
   "execution_count": 13,
   "id": "e565c29e",
   "metadata": {},
   "outputs": [],
   "source": [
    "FREQ = 440\n",
    "SHAPE = lambda x: np.sin(np.pi*x)**5\n",
    "sound4 = rev_shepard_scale(SR, FREQ, 5, 8, SHAPE)"
   ]
  },
  {
   "cell_type": "code",
   "execution_count": 14,
   "id": "6f76b1e8",
   "metadata": {},
   "outputs": [],
   "source": [
    "play_sound(sound4, SR)"
   ]
  },
  {
   "cell_type": "markdown",
   "id": "c113a109",
   "metadata": {},
   "source": [
    "### Overlapping "
   ]
  },
  {
   "cell_type": "code",
   "execution_count": 16,
   "id": "1ea48e02",
   "metadata": {},
   "outputs": [],
   "source": [
    "def repeat(shepard_scale_buff, times, overlap_amount):\n",
    "    soundbuff = np.zeros(int(len(shepard_scale_buff)\\\n",
    "                         *(1+times*(1-overlap_amount))))\n",
    "    \n",
    "    for i, v in enumerate(shepard_scale_buff):\n",
    "        soundbuff[i] = v\n",
    "    \n",
    "    loc = len(shepard_scale_buff)\n",
    "    for i in range(times):\n",
    "        loc = loc - int(len(shepard_scale_buff) * overlap_amount)\n",
    "        for i, v in enumerate(shepard_scale_buff):\n",
    "            prev = soundbuff[loc]\n",
    "            prog = i/(len(shepard_scale_buff)*overlap_amount)\n",
    "            if (prog > 1): prog = 1\n",
    "            soundbuff[loc] = prev*(1-prog) + v*prog\n",
    "            loc += 1\n",
    "    \n",
    "    return soundbuff"
   ]
  },
  {
   "cell_type": "code",
   "execution_count": 17,
   "id": "dc494585",
   "metadata": {},
   "outputs": [],
   "source": [
    "FREQ = 220\n",
    "SHAPE = lambda x: np.sin(np.pi*x)**5\n",
    "sound5 = shepard_scale(SR, FREQ, 5, 6, SHAPE)\n",
    "sound5 = repeat(sound5, 2, 1./5)\n",
    "sound8 = rev_shepard_scale(SR, FREQ, 5, 6, SHAPE)\n",
    "sound8 = repeat(sound8, 2, 1./5)"
   ]
  },
  {
   "cell_type": "code",
   "execution_count": 18,
   "id": "1fbe0295",
   "metadata": {},
   "outputs": [],
   "source": [
    "play_sound(sound5, SR)"
   ]
  },
  {
   "cell_type": "code",
   "execution_count": 19,
   "id": "fe31244f",
   "metadata": {},
   "outputs": [],
   "source": [
    "play_sound(sound8, SR)"
   ]
  },
  {
   "cell_type": "markdown",
   "id": "39d8d773",
   "metadata": {},
   "source": [
    "### Shepard - Risset Major Chord Glissando"
   ]
  },
  {
   "cell_type": "code",
   "execution_count": 20,
   "id": "416686e7",
   "metadata": {},
   "outputs": [],
   "source": [
    "def shepard_scale_with_mul(sample_rate, fund_freq, tones, duration,\\\n",
    "                          shape_fxn, mul):\n",
    "    bufflen = sample_rate*duration\n",
    "    soundbuff = np.zeros(bufflen)\n",
    "    for i in range(bufflen):\n",
    "        prog = i/bufflen\n",
    "        t = i/sample_rate\n",
    "        soundbuff[i] = shepard_tone(fund_freq*2**(prog*mul), prog,\\\n",
    "                                    t, tones, shape_fxn)\n",
    "    return soundbuff"
   ]
  },
  {
   "cell_type": "code",
   "execution_count": 21,
   "id": "72c096c3",
   "metadata": {},
   "outputs": [],
   "source": [
    "def discrete_shepard_scale_with_mul(sample_rate, fund_freq, tones,\\\n",
    "                           steps, duration, shape_fxn, mul):\n",
    "    bufflen = sample_rate*duration\n",
    "    soundbuff = np.zeros(bufflen)\n",
    "    for s in range(steps):\n",
    "        prog = s/steps\n",
    "        freq = fund_freq*2**(prog*mul)\n",
    "        for i in range(int(bufflen/steps * 0.8)):\n",
    "            t = i/sample_rate\n",
    "            soundbuff[s*int(bufflen/steps) + i] = \\\n",
    "                shepard_tone(freq, prog, t, tones, shape_fxn)\n",
    "    return soundbuff"
   ]
  },
  {
   "cell_type": "code",
   "execution_count": 22,
   "id": "5c902d94",
   "metadata": {},
   "outputs": [],
   "source": [
    "FREQ = 220\n",
    "SHAPE = lambda x: np.sin(np.pi*x)**5\n",
    "sound6 = discrete_shepard_scale_with_mul(SR, FREQ, 4, 12, 6, SHAPE, 1.)\n",
    "MUL = 5./4\n",
    "sound6 += discrete_shepard_scale_with_mul(SR, FREQ*MUL, 4, 12, 6, SHAPE, MUL)\n",
    "MUL = 3./2\n",
    "sound6 += discrete_shepard_scale_with_mul(SR, FREQ*MUL, 4, 12, 6, SHAPE, MUL)"
   ]
  },
  {
   "cell_type": "code",
   "execution_count": 23,
   "id": "3c7f5d81",
   "metadata": {},
   "outputs": [],
   "source": [
    "play_sound(sound6, SR)"
   ]
  },
  {
   "cell_type": "code",
   "execution_count": 24,
   "id": "7710938d",
   "metadata": {},
   "outputs": [],
   "source": [
    "FREQ = 220\n",
    "SHAPE = lambda x: np.sin(np.pi*x)**5\n",
    "sound7 = shepard_scale_with_mul(SR, FREQ, 5, 8, SHAPE, 1.)\n",
    "MUL = 5./4 \n",
    "sound7 += shepard_scale_with_mul(SR, FREQ*MUL, 5, 8, SHAPE, MUL)\n",
    "MUL = 3./2\n",
    "sound7 += shepard_scale_with_mul(SR, FREQ*MUL, 5, 8, SHAPE, MUL)"
   ]
  },
  {
   "cell_type": "code",
   "execution_count": 25,
   "id": "31cc4735",
   "metadata": {},
   "outputs": [],
   "source": [
    "play_sound(sound7, SR)"
   ]
  }
 ],
 "metadata": {
  "kernelspec": {
   "display_name": "Python 3 (ipykernel)",
   "language": "python",
   "name": "python3"
  },
  "language_info": {
   "codemirror_mode": {
    "name": "ipython",
    "version": 3
   },
   "file_extension": ".py",
   "mimetype": "text/x-python",
   "name": "python",
   "nbconvert_exporter": "python",
   "pygments_lexer": "ipython3",
   "version": "3.8.8"
  }
 },
 "nbformat": 4,
 "nbformat_minor": 5
}
